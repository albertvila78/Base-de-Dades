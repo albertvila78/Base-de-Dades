{
 "cells": [
  {
   "cell_type": "code",
   "execution_count": 3,
   "id": "62f8df2c",
   "metadata": {},
   "outputs": [],
   "source": [
    "import mysql.connector\n",
    "\n",
    "mydb = mysql.connector.connect(\n",
    "  host=\"localhost\",\n",
    "  user=\"root\",\n",
    "  password=\"\",\n",
    "  database=\"movies\"\n",
    ")\n"
   ]
  },
  {
   "cell_type": "code",
   "execution_count": 4,
   "id": "6bcf317c",
   "metadata": {},
   "outputs": [],
   "source": [
    "mycursor = mydb.cursor()"
   ]
  },
  {
   "cell_type": "code",
   "execution_count": 11,
   "id": "185e38fb",
   "metadata": {},
   "outputs": [
    {
     "name": "stdout",
     "output_type": "stream",
     "text": [
      "(1, 'Apocalypse Now', datetime.date(1979, 5, 10), 'Film', 11, 'OS_SGAD', None, None)\n",
      "(2, 'Star Wars:Episode IV - A New Hope', datetime.date(1977, 5, 25), 'Film', 2, 'OS_SGAD', None, None)\n",
      "(3, 'Indiana Jones and the Temple of Doom', datetime.date(1984, 5, 8), 'Film', 1, 'OS_SGAD', None, None)\n",
      "(4, 'The Terminal', datetime.date(2004, 6, 18), 'Digital', 3, 'OS_SGAD', None, None)\n",
      "(5, 'Jaws', datetime.date(1975, 1, 1), 'Film', 10, 'OS_SGAD', None, None)\n",
      "(6, 'ET The Extraterrestrial', datetime.date(1982, 7, 25), 'Film', 5, 'OS_SGAD', None, None)\n",
      "(7, 'Psycho', datetime.date(1960, 5, 6), 'Film', 9, 'OS_SGAD', None, None)\n",
      "(8, 'Ocho Apellidos Vascos', datetime.date(2014, 3, 14), 'Digital', 3, 'OS_SGAD', None, None)\n",
      "(9, 'Ocho Apellidos Catalanes', datetime.date(2016, 6, 9), 'Digital', 3, 'OS_SGAD', None, None)\n",
      "(10, 'El otro lado de la cama', datetime.date(2002, 9, 4), 'Digital', 8, 'OS_SGAD', None, None)\n",
      "(12, 'El dia de la bestia', datetime.date(1994, 12, 25), 'Film', 1, 'OS_SGAD', None, None)\n",
      "(13, 'Braveheart', datetime.date(1995, 8, 8), 'Film', 4, 'OS_SGAD', None, None)\n",
      "(14, 'The Shawshank Redemption', datetime.date(1992, 1, 7), 'Film', 4, 'OS_SGAD', None, None)\n",
      "(15, 'Las brujas de Zugarramurdi', datetime.date(2009, 10, 7), 'Digital', 9, 'OS_SGAD', None, None)\n",
      "(16, 'Blade Runner', datetime.date(1982, 12, 25), 'Digital', 2, 'OS_SGAD', None, None)\n"
     ]
    }
   ],
   "source": [
    "#Exercici1- En la taula movies.tb_movie hi ha un llistat de pel·lícules amb la seva data, el format, el gènere al qual pertany,\n",
    "#l'usuari que l'ha creat(OS_SGAD per defecte), la data de creació i la data d'actualització ambdós casos no hi ha informació (None)\n",
    "#i la clau primària és (MOVIE_ID)\n",
    "\n",
    "sql = (\"SELECT * FROM movies.tb_movie\")\n",
    "\n",
    "mycursor.execute(sql)\n",
    "\n",
    "myresult = mycursor.fetchall()\n",
    "\n",
    "for x in myresult:\n",
    "    \n",
    "    print(x)\n"
   ]
  },
  {
   "cell_type": "code",
   "execution_count": 12,
   "id": "535be822",
   "metadata": {},
   "outputs": [
    {
     "name": "stdout",
     "output_type": "stream",
     "text": [
      "(1, 'Acción', 'OS_SGAD', None, None)\n",
      "(2, 'Ciencia Ficción', 'OS_SGAD', None, None)\n",
      "(3, 'Comedia', 'OS_SGAD', None, None)\n",
      "(4, 'Drama', 'OS_SGAD', None, None)\n",
      "(5, 'Fantasía', 'apermag', None, None)\n",
      "(6, 'Melodrama', 'apermag', datetime.date(2018, 9, 1), datetime.date(2018, 9, 27))\n",
      "(7, 'Musical', 'OS_SGAD', None, None)\n",
      "(8, 'Romance', 'OS_SGAD', None, None)\n",
      "(9, 'Suspense', 'OS_SGAD', None, None)\n",
      "(10, 'Terror', 'OS_SGAD', None, None)\n",
      "(11, 'Bélico', 'OS_SGAD', None, None)\n",
      "(69, 'Documental', 'OS_SGAD', None, None)\n"
     ]
    }
   ],
   "source": [
    "#En la taula movies.tb_genre surten els diferents gèneres, l'usuari que l'ha creat(OS_SGAD per defecte), la data de creació i la data de actualització en aquest cas ambdos casos no hi \n",
    "#data d'actualització (None) i la clau primària és (GENRE_ID), surt el gènere documental perquè he fet l'exercici amb posterioritat.\n",
    "#en aquest cas sí que hi ha informació d'un usuari que he creat el registre Melodrama.\n",
    "\n",
    "sql = (\"SELECT * FROM movies.tb_genre\")\n",
    "\n",
    "mycursor.execute(sql)\n",
    "\n",
    "myresult = mycursor.fetchall()\n",
    "\n",
    "for x in myresult:\n",
    "    \n",
    "    print(x)\n"
   ]
  },
  {
   "cell_type": "code",
   "execution_count": 13,
   "id": "6ae42f40",
   "metadata": {},
   "outputs": [
    {
     "name": "stdout",
     "output_type": "stream",
     "text": [
      "(1, 'Actor', 'OS_SGAD', None, None)\n",
      "(2, 'Director', 'OS_SGAD', None, None)\n",
      "(3, 'Productor', 'OS_SGAD', None, None)\n",
      "(4, 'Guionista', 'OS_SGAD', None, None)\n",
      "(5, 'Música', 'OS_SGAD', None, None)\n"
     ]
    }
   ],
   "source": [
    "#En la taula movies.tb_role surten rols principals que trobem a l'hora de fer una pel·lícula, l'usuari que l'ha creat(OS_SGAD per defecte), la data de creació i la data de actualització en aquest cas ambdos casos no hi \n",
    "#data d'actualització (None) i la clau primària és (ROLE_ID)\n",
    "\n",
    "sql = (\"SELECT * FROM movies.tb_role\")\n",
    "\n",
    "mycursor.execute(sql)\n",
    "\n",
    "myresult = mycursor.fetchall()\n",
    "\n",
    "for x in myresult:\n",
    "    \n",
    "    print(x)\n"
   ]
  },
  {
   "cell_type": "code",
   "execution_count": 14,
   "id": "c08bddf6",
   "metadata": {},
   "outputs": [
    {
     "name": "stdout",
     "output_type": "stream",
     "text": [
      "(1, 'Francis Ford Coppola', 'United States', datetime.date(1939, 4, 7), None, None, 'OS_SGAD', None, None)\n",
      "(2, 'Carmine Coppola', 'United States', datetime.date(1945, 7, 8), None, None, 'OS_SGAD', None, None)\n",
      "(3, 'Marlon Brando', 'United States', datetime.date(1924, 4, 3), datetime.date(2004, 7, 1), None, 'OS_SGAD', None, None)\n",
      "(4, 'Robert Duvall', 'United States', datetime.date(1931, 1, 5), None, None, 'OS_SGAD', None, None)\n",
      "(5, 'Martin Sheen', 'United States', datetime.date(1940, 8, 3), None, None, 'OS_SGAD', None, None)\n",
      "(6, 'Harrison Ford', 'United States', datetime.date(1942, 7, 13), None, None, 'OS_SGAD', None, None)\n",
      "(7, 'George Lucas', 'United States', datetime.date(1944, 5, 14), None, None, 'OS_SGAD', None, None)\n",
      "(8, 'Gary Kurtz', 'United States', datetime.date(1940, 7, 27), None, None, 'OS_SGAD', None, None)\n",
      "(9, 'Steven Spielberg', 'United States', datetime.date(1946, 12, 18), None, None, 'OS_SGAD', None, None)\n",
      "(10, 'John Williams', 'United States', datetime.date(1928, 8, 8), None, None, 'OS_SGAD', None, None)\n",
      "(11, 'Tom Hanks', 'United States', datetime.date(1956, 7, 9), None, None, 'OS_SGAD', None, None)\n",
      "(12, 'Catherine Zeta-Jones', 'Wales', datetime.date(1969, 9, 25), None, None, 'OS_SGAD', None, None)\n",
      "(13, 'Alfred Joseph Hitchcock', 'United Kingdom', datetime.date(1899, 8, 13), datetime.date(1980, 4, 29), None, 'OS_SGAD', None, None)\n",
      "(14, 'Anthony Perkins', 'United States', datetime.date(1934, 4, 4), datetime.date(1992, 9, 8), None, 'OS_SGAD', None, None)\n",
      "(15, 'Vera Miles', 'United States', datetime.date(1929, 8, 23), None, None, 'OS_SGAD', None, None)\n",
      "(16, 'Emilio Martinez Lazaro', 'Spain', datetime.date(1956, 9, 9), None, None, 'OS_SGAD', None, None)\n",
      "(17, 'Dani Rovira', 'Spain', datetime.date(1984, 7, 1), None, None, 'OS_SGAD', None, None)\n",
      "(18, 'Clara Lago', 'Spain', datetime.date(1986, 4, 17), None, None, 'OS_SGAD', None, None)\n",
      "(19, 'Carmen Machi', 'Spain', datetime.date(1964, 8, 9), None, None, 'OS_SGAD', None, None)\n",
      "(20, 'Karra Elejalde', 'Spain', datetime.date(1960, 3, 6), None, None, 'OS_SGAD', None, None)\n",
      "(21, 'Daniel Sanchez Arevalo', 'Spain', datetime.date(1970, 6, 8), None, None, 'OS_SGAD', None, None)\n",
      "(22, 'Quim Gutierrez', 'Spain', datetime.date(1981, 3, 27), None, None, 'OS_SGAD', None, None)\n",
      "(23, 'Robert Alamo', 'Spain', datetime.date(1970, 5, 6), None, None, 'OS_SGAD', None, None)\n",
      "(24, 'Hector Colome', 'Spain', datetime.date(1944, 10, 25), datetime.date(2015, 2, 28), None, 'OS_SGAD', None, None)\n",
      "(25, 'Veronica Echegui', 'Spain', datetime.date(1983, 3, 14), None, None, 'OS_SGAD', None, None)\n",
      "(26, 'Patrick Criado', 'Spain', datetime.date(1995, 9, 23), None, None, 'OS_SGAD', None, None)\n",
      "(27, 'Sean Connery', 'Scotland', datetime.date(1930, 7, 8), None, None, 'OS_SGAD', None, None)\n",
      "(28, 'Mel Gibson', 'Australia', datetime.date(1950, 8, 9), None, None, 'OS_SGAD', None, None)\n",
      "(29, 'Morgan Freeman', 'United States', datetime.date(1935, 10, 1), None, None, 'OS_SGAD', None, None)\n",
      "(30, 'Tim Robbins', 'United States', datetime.date(1949, 6, 7), None, None, 'OS_SGAD', None, None)\n",
      "(41, 'Charlie Sheen', 'United States', datetime.date(1965, 9, 3), None, 5, 'OS_SGAD', None, None)\n",
      "(42, 'Emilio Estevez', 'United States', datetime.date(1962, 5, 12), None, 5, 'OS_SGAD', None, None)\n",
      "(43, 'Ramón Estevez', 'United States', datetime.date(1963, 8, 7), None, 5, 'OS_SGAD', None, None)\n",
      "(44, 'Reneé Estevez', 'United States', datetime.date(1967, 4, 2), None, 5, 'OS_SGAD', None, None)\n",
      "(45, 'Paula Speert Sheen', 'United States', datetime.date(1986, 1, 6), None, 41, 'OS_SGAD', None, None)\n",
      "(46, 'Bob Sheen', 'United States', datetime.date(2009, 5, 1), None, 41, 'OS_SGAD', None, None)\n",
      "(47, 'Max Sheen', 'United States', datetime.date(2009, 5, 1), None, 41, 'OS_SGAD', None, None)\n",
      "(48, 'Sam Sheen', 'United States', datetime.date(2004, 3, 9), None, 41, 'OS_SGAD', None, None)\n",
      "(49, 'Lola Sheen', 'United States', datetime.date(2005, 6, 1), None, 41, 'OS_SGAD', None, None)\n",
      "(50, 'Paula Jones-Sheen', 'United States', datetime.date(2003, 7, 6), None, 45, 'OS_SGAD', None, None)\n",
      "(51, 'Paloma Rae Estevez', 'United States', datetime.date(1986, 2, 15), None, 42, 'OS_SGAD', None, None)\n",
      "(52, 'Taylor Levi Estevez', 'United States', datetime.date(1984, 6, 22), None, 42, 'OS_SGAD', None, None)\n"
     ]
    }
   ],
   "source": [
    "#En la taula movies.tb_person surten els noms dels directors, actors, guionistes, productors i músics, la seva data de naixement\n",
    "#i data de mort (Si és el cas), l'id del seu pare (que està buit), l'usuari que l'ha creat(OS_SGAD per defecte), la data de creació\n",
    "#i data d'actualització (None) i la clau primària és (person_id)\n",
    "\n",
    "sql = (\"SELECT * FROM movies.tb_person\")\n",
    "\n",
    "mycursor.execute(sql)\n",
    "\n",
    "myresult = mycursor.fetchall()\n",
    "\n",
    "for x in myresult:\n",
    "    \n",
    "    print(x)"
   ]
  },
  {
   "cell_type": "code",
   "execution_count": 10,
   "id": "73e9db68",
   "metadata": {},
   "outputs": [
    {
     "name": "stdout",
     "output_type": "stream",
     "text": [
      "(1, 1, 2, 'Y', 'OS_SGAD', None, None)\n",
      "(1, 1, 3, 'N', 'OS_SGAD', None, None)\n",
      "(1, 1, 5, 'N', 'OS_SGAD', None, None)\n",
      "(1, 2, 5, 'N', 'OS_SGAD', None, None)\n",
      "(1, 3, 1, 'N', 'OS_SGAD', None, None)\n",
      "(1, 4, 1, 'N', 'OS_SGAD', None, None)\n",
      "(1, 5, 1, 'Y', 'OS_SGAD', None, None)\n",
      "(1, 6, 1, 'N', 'OS_SGAD', None, None)\n",
      "(1, 41, 1, 'N', 'OS_SGAD', None, None)\n",
      "(2, 6, 1, 'N', 'OS_SGAD', None, None)\n",
      "(2, 7, 2, 'Y', 'OS_SGAD', None, None)\n",
      "(2, 8, 3, 'N', 'OS_SGAD', None, None)\n",
      "(3, 6, 1, 'N', 'OS_SGAD', None, None)\n",
      "(3, 7, 1, 'N', 'OS_SGAD', None, None)\n",
      "(3, 7, 4, 'N', 'OS_SGAD', None, None)\n",
      "(3, 9, 2, 'N', 'OS_SGAD', None, None)\n",
      "(3, 10, 5, 'N', 'OS_SGAD', None, None)\n",
      "(4, 9, 2, 'N', 'OS_SGAD', None, None)\n",
      "(4, 9, 3, 'N', 'OS_SGAD', None, None)\n",
      "(4, 11, 1, 'N', 'OS_SGAD', None, None)\n",
      "(4, 12, 1, 'N', 'OS_SGAD', None, None)\n",
      "(5, 9, 2, 'N', 'OS_SGAD', None, None)\n",
      "(6, 9, 2, 'N', 'OS_SGAD', None, None)\n",
      "(7, 13, 1, 'N', 'OS_SGAD', None, None)\n",
      "(7, 13, 2, 'N', 'OS_SGAD', None, None)\n",
      "(7, 13, 3, 'N', 'OS_SGAD', None, None)\n",
      "(7, 14, 2, 'N', 'OS_SGAD', None, None)\n",
      "(7, 15, 2, 'N', 'OS_SGAD', None, None)\n",
      "(8, 16, 2, 'N', 'OS_SGAD', None, None)\n",
      "(8, 17, 1, 'N', 'OS_SGAD', None, None)\n",
      "(8, 18, 1, 'N', 'OS_SGAD', None, None)\n",
      "(8, 19, 1, 'N', 'OS_SGAD', None, None)\n",
      "(8, 20, 1, 'N', 'OS_SGAD', None, None)\n",
      "(9, 16, 2, 'N', 'OS_SGAD', None, None)\n",
      "(9, 17, 1, 'N', 'OS_SGAD', None, None)\n",
      "(9, 18, 1, 'N', 'OS_SGAD', None, None)\n",
      "(9, 19, 1, 'N', 'OS_SGAD', None, None)\n",
      "(9, 20, 1, 'N', 'OS_SGAD', None, None)\n",
      "(10, 16, 2, 'N', 'OS_SGAD', None, None)\n",
      "(11, 21, 2, 'N', 'OS_SGAD', None, None)\n",
      "(11, 21, 4, 'N', 'OS_SGAD', None, None)\n",
      "(11, 22, 1, 'N', 'OS_SGAD', None, None)\n",
      "(11, 23, 1, 'N', 'OS_SGAD', None, None)\n",
      "(11, 24, 1, 'N', 'OS_SGAD', None, None)\n",
      "(11, 25, 1, 'N', 'OS_SGAD', None, None)\n",
      "(11, 26, 1, 'N', 'OS_SGAD', None, None)\n",
      "(13, 28, 1, 'Y', 'OS_SGAD', None, None)\n",
      "(13, 28, 2, 'N', 'OS_SGAD', None, None)\n",
      "(14, 29, 1, 'N', 'OS_SGAD', None, None)\n",
      "(14, 30, 1, 'N', 'OS_SGAD', None, None)\n"
     ]
    }
   ],
   "source": [
    "#En la taula movies.tb_movie_person surt l'id de la pel·lícula (movie_id) relacionat amb qui ha participat (person_id), i el rol que ha \n",
    "#tingut (rol_id), si la pel·lícula ha obtingut algun premi(movie_award_ind) l'usuari que l'ha creat(OS_SGAD), la data de creació i actualització. Hi ha tres claus primàries (movie_id, person_id, rol_id)\n",
    "\n",
    "\n",
    "sql = (\"SELECT * FROM movies.tb_movie_person\")\n",
    "\n",
    "mycursor.execute(sql)\n",
    "\n",
    "myresult = mycursor.fetchall()\n",
    "\n",
    "for x in myresult:\n",
    "    \n",
    "    print(x)"
   ]
  },
  {
   "cell_type": "code",
   "execution_count": 15,
   "id": "fb5a9960",
   "metadata": {},
   "outputs": [
    {
     "name": "stdout",
     "output_type": "stream",
     "text": [
      "('Alfred Joseph Hitchcock', 'United Kingdom', datetime.date(1980, 4, 29))\n",
      "('Anthony Perkins', 'United States', datetime.date(1992, 9, 8))\n",
      "('Marlon Brando', 'United States', datetime.date(2004, 7, 1))\n",
      "('Hector Colome', 'Spain', datetime.date(2015, 2, 28))\n"
     ]
    }
   ],
   "source": [
    "#Exercici2\n",
    "\n",
    "sql = \"SELECT  person_name , person_country , person_dod FROM movies.tb_person WHERE person_dod is not null order by person_dod asc\"\n",
    "\n",
    "mycursor.execute(sql)\n",
    "\n",
    "myresult = mycursor.fetchall()\n",
    "\n",
    "for x in myresult:\n",
    "    \n",
    "  print(x)"
   ]
  },
  {
   "cell_type": "code",
   "execution_count": 16,
   "id": "3030d28a",
   "metadata": {},
   "outputs": [
    {
     "name": "stdout",
     "output_type": "stream",
     "text": [
      "('Comedia', 3)\n",
      "('Acción', 2)\n",
      "('Ciencia Ficción', 2)\n",
      "('Drama', 2)\n",
      "('Suspense', 2)\n",
      "('Fantasía', 1)\n",
      "('Romance', 1)\n",
      "('Terror', 1)\n",
      "('Bélico', 1)\n"
     ]
    }
   ],
   "source": [
    "#Exercici3\n",
    "\n",
    "sql = \"SELECT genre_name, COUNT(genre_id) FROM movies.tb_genre JOIN movies.tb_movie ON genre_id = movie_genre_id GROUP BY genre_id ORDER BY COUNT(genre_id) DESC\"\n",
    "\n",
    "mycursor.execute(sql)\n",
    "\n",
    "myresult = mycursor.fetchall()\n",
    "\n",
    "for x in myresult:\n",
    "    \n",
    "  print(x)\n",
    "\n",
    "mycursor.nextset()"
   ]
  },
  {
   "cell_type": "code",
   "execution_count": 21,
   "id": "b17d4e32",
   "metadata": {},
   "outputs": [
    {
     "name": "stdout",
     "output_type": "stream",
     "text": [
      "('Francis Ford Coppola', 5)\n",
      "('Carmine Coppola', 5)\n",
      "('Marlon Brando', 1)\n",
      "('Robert Duvall', 1)\n",
      "('Martin Sheen', 1)\n",
      "('Harrison Ford', 1)\n",
      "('George Lucas', 4)\n",
      "('Gary Kurtz', 3)\n",
      "('Steven Spielberg', 3)\n",
      "('John Williams', 5)\n",
      "('Tom Hanks', 1)\n",
      "('Catherine Zeta-Jones', 1)\n",
      "('Alfred Joseph Hitchcock', 3)\n",
      "('Anthony Perkins', 2)\n",
      "('Vera Miles', 2)\n",
      "('Emilio Martinez Lazaro', 2)\n",
      "('Dani Rovira', 1)\n",
      "('Clara Lago', 1)\n",
      "('Carmen Machi', 1)\n",
      "('Karra Elejalde', 1)\n",
      "('Daniel Sanchez Arevalo', 4)\n",
      "('Quim Gutierrez', 1)\n",
      "('Robert Alamo', 1)\n",
      "('Hector Colome', 1)\n",
      "('Veronica Echegui', 1)\n",
      "('Patrick Criado', 1)\n",
      "('Mel Gibson', 2)\n",
      "('Morgan Freeman', 1)\n",
      "('Tim Robbins', 1)\n",
      "('Charlie Sheen', 1)\n"
     ]
    }
   ],
   "source": [
    "#Exercici 4\n",
    "sql = \"SELECT DISTINCT person_name , MAX(role_id) FROM movies.tb_movie_person INNER JOIN movies.tb_person ON movies.tb_person.person_id= movies.tb_movie_person.person_id GROUP BY person_name\"\n",
    "\n",
    "\n",
    "mycursor.execute(sql)\n",
    "\n",
    "myresult = mycursor.fetchall()\n",
    "\n",
    "for x in myresult:\n",
    "    \n",
    "    print(x)"
   ]
  },
  {
   "cell_type": "code",
   "execution_count": 23,
   "id": "d16f47c6",
   "metadata": {},
   "outputs": [
    {
     "name": "stdout",
     "output_type": "stream",
     "text": [
      "('Francis Ford Coppola', 5)\n",
      "('George Lucas', 4)\n",
      "('Steven Spielberg', 3)\n",
      "('Alfred Joseph Hitchcock', 3)\n",
      "('Anthony Perkins', 2)\n",
      "('Vera Miles', 2)\n",
      "('Emilio Martinez Lazaro', 2)\n",
      "('Daniel Sanchez Arevalo', 4)\n",
      "('Mel Gibson', 2)\n",
      "('Gary Kurtz', 3)\n",
      "('Carmine Coppola', 5)\n",
      "('John Williams', 5)\n"
     ]
    }
   ],
   "source": [
    "sql = \"SELECT DISTINCT person_name , MAX(role_id) FROM movies.tb_movie_person INNER JOIN movies.tb_person ON movies.tb_person.person_id= movies.tb_movie_person.person_id WHERE movies.tb_movie_person.role_id > 1 GROUP BY person_name\"\n",
    "\n",
    "\n",
    "mycursor.execute(sql)\n",
    "\n",
    "myresult = mycursor.fetchall()\n",
    "\n",
    "for x in myresult:\n",
    "    \n",
    "    print(x)"
   ]
  },
  {
   "cell_type": "code",
   "execution_count": null,
   "id": "cbc7808d",
   "metadata": {},
   "outputs": [],
   "source": [
    "sql = \"INSERT INTO movies.tb_genre (genre_id, genre_name) VALUES (69, 'Documental')\""
   ]
  },
  {
   "cell_type": "code",
   "execution_count": 23,
   "id": "9c1796f8",
   "metadata": {},
   "outputs": [
    {
     "name": "stdout",
     "output_type": "stream",
     "text": [
      "(1, 'Acción', 'OS_SGAD', None, None)\n",
      "(2, 'Ciencia Ficción', 'OS_SGAD', None, None)\n",
      "(3, 'Comedia', 'OS_SGAD', None, None)\n",
      "(4, 'Drama', 'OS_SGAD', None, None)\n",
      "(5, 'Fantasía', 'apermag', None, None)\n",
      "(6, 'Melodrama', 'apermag', datetime.date(2018, 9, 1), datetime.date(2018, 9, 27))\n",
      "(7, 'Musical', 'OS_SGAD', None, None)\n",
      "(8, 'Romance', 'OS_SGAD', None, None)\n",
      "(9, 'Suspense', 'OS_SGAD', None, None)\n",
      "(10, 'Terror', 'OS_SGAD', None, None)\n",
      "(11, 'Bélico', 'OS_SGAD', None, None)\n",
      "(69, 'Documental', 'OS_SGAD', None, None)\n"
     ]
    }
   ],
   "source": [
    "sql = (\"SELECT * FROM movies.tb_genre\")\n",
    "\n",
    "mycursor.execute(sql)\n",
    "\n",
    "myresult = mycursor.fetchall()\n",
    "\n",
    "for x in myresult:\n",
    "    \n",
    "    print(x)\n"
   ]
  },
  {
   "cell_type": "code",
   "execution_count": 24,
   "id": "f13bbef2",
   "metadata": {},
   "outputs": [],
   "source": [
    "#Exercici6\n",
    "\n",
    "sql= \"set foreign_key_checks=0\"\n",
    "\n",
    "\n",
    "mycursor.execute(sql)\n",
    "\n",
    "sql = \"DELETE FROM movies.tb_movie WHERE movie_title = 'La Gran Familia Española'\"\n",
    "\n",
    "mycursor.execute(sql)\n",
    "\n",
    "\n",
    "\n",
    "myresult = mycursor.fetchall()\n",
    "\n",
    "for x in myresult:\n",
    "    \n",
    "    print(x)"
   ]
  },
  {
   "cell_type": "code",
   "execution_count": 25,
   "id": "6862346f",
   "metadata": {},
   "outputs": [
    {
     "name": "stdout",
     "output_type": "stream",
     "text": [
      "(1, 'Apocalypse Now', datetime.date(1979, 5, 10), 'Film', 11, 'OS_SGAD', None, None)\n",
      "(2, 'Star Wars:Episode IV - A New Hope', datetime.date(1977, 5, 25), 'Film', 2, 'OS_SGAD', None, None)\n",
      "(3, 'Indiana Jones and the Temple of Doom', datetime.date(1984, 5, 8), 'Film', 1, 'OS_SGAD', None, None)\n",
      "(4, 'The Terminal', datetime.date(2004, 6, 18), 'Digital', 3, 'OS_SGAD', None, None)\n",
      "(5, 'Jaws', datetime.date(1975, 1, 1), 'Film', 10, 'OS_SGAD', None, None)\n",
      "(6, 'ET The Extraterrestrial', datetime.date(1982, 7, 25), 'Film', 5, 'OS_SGAD', None, None)\n",
      "(7, 'Psycho', datetime.date(1960, 5, 6), 'Film', 9, 'OS_SGAD', None, None)\n",
      "(8, 'Ocho Apellidos Vascos', datetime.date(2014, 3, 14), 'Digital', 3, 'OS_SGAD', None, None)\n",
      "(9, 'Ocho Apellidos Catalanes', datetime.date(2016, 6, 9), 'Digital', 3, 'OS_SGAD', None, None)\n",
      "(10, 'El otro lado de la cama', datetime.date(2002, 9, 4), 'Digital', 8, 'OS_SGAD', None, None)\n",
      "(12, 'El dia de la bestia', datetime.date(1994, 12, 25), 'Film', 1, 'OS_SGAD', None, None)\n",
      "(13, 'Braveheart', datetime.date(1995, 8, 8), 'Film', 4, 'OS_SGAD', None, None)\n",
      "(14, 'The Shawshank Redemption', datetime.date(1992, 1, 7), 'Film', 4, 'OS_SGAD', None, None)\n",
      "(15, 'Las brujas de Zugarramurdi', datetime.date(2009, 10, 7), 'Digital', 9, 'OS_SGAD', None, None)\n",
      "(16, 'Blade Runner', datetime.date(1982, 12, 25), 'Digital', 2, 'OS_SGAD', None, None)\n"
     ]
    }
   ],
   "source": [
    "sql=\"SELECT * FROM movies.tb_movie\"\n",
    "\n",
    "mycursor.execute(sql)\n",
    "\n",
    "myresult = mycursor.fetchall()\n",
    "\n",
    "for x in myresult:\n",
    "    \n",
    "    print(x)"
   ]
  },
  {
   "cell_type": "code",
   "execution_count": 24,
   "id": "2ce0ea9c",
   "metadata": {},
   "outputs": [],
   "source": [
    "#Exercici7\n",
    "\n",
    "sql = \"UPDATE movies.tb_movie SET movie_genre_id = '3' WHERE movie_title = 'Ocho Apellidos Catalanes'\"\n",
    "\n",
    "mycursor.execute(sql)"
   ]
  },
  {
   "cell_type": "code",
   "execution_count": 25,
   "id": "ef5bd371",
   "metadata": {},
   "outputs": [
    {
     "name": "stdout",
     "output_type": "stream",
     "text": [
      "(1, 'Apocalypse Now', datetime.date(1979, 5, 10), 'Film', 11, 'OS_SGAD', None, None)\n",
      "(2, 'Star Wars:Episode IV - A New Hope', datetime.date(1977, 5, 25), 'Film', 2, 'OS_SGAD', None, None)\n",
      "(3, 'Indiana Jones and the Temple of Doom', datetime.date(1984, 5, 8), 'Film', 1, 'OS_SGAD', None, None)\n",
      "(4, 'The Terminal', datetime.date(2004, 6, 18), 'Digital', 3, 'OS_SGAD', None, None)\n",
      "(5, 'Jaws', datetime.date(1975, 1, 1), 'Film', 10, 'OS_SGAD', None, None)\n",
      "(6, 'ET The Extraterrestrial', datetime.date(1982, 7, 25), 'Film', 5, 'OS_SGAD', None, None)\n",
      "(7, 'Psycho', datetime.date(1960, 5, 6), 'Film', 9, 'OS_SGAD', None, None)\n",
      "(8, 'Ocho Apellidos Vascos', datetime.date(2014, 3, 14), 'Digital', 3, 'OS_SGAD', None, None)\n",
      "(9, 'Ocho Apellidos Catalanes', datetime.date(2016, 6, 9), 'Digital', 3, 'OS_SGAD', None, None)\n",
      "(10, 'El otro lado de la cama', datetime.date(2002, 9, 4), 'Digital', 8, 'OS_SGAD', None, None)\n",
      "(12, 'El dia de la bestia', datetime.date(1994, 12, 25), 'Film', 1, 'OS_SGAD', None, None)\n",
      "(13, 'Braveheart', datetime.date(1995, 8, 8), 'Film', 4, 'OS_SGAD', None, None)\n",
      "(14, 'The Shawshank Redemption', datetime.date(1992, 1, 7), 'Film', 4, 'OS_SGAD', None, None)\n",
      "(15, 'Las brujas de Zugarramurdi', datetime.date(2009, 10, 7), 'Digital', 9, 'OS_SGAD', None, None)\n",
      "(16, 'Blade Runner', datetime.date(1982, 12, 25), 'Digital', 2, 'OS_SGAD', None, None)\n"
     ]
    }
   ],
   "source": [
    "sql=\"SELECT * FROM movies.tb_movie\"\n",
    "\n",
    "mycursor.execute(sql)\n",
    "\n",
    "myresult = mycursor.fetchall()\n",
    "\n",
    "for x in myresult:\n",
    "    \n",
    "    print(x)"
   ]
  },
  {
   "cell_type": "code",
   "execution_count": 26,
   "id": "156a95ae",
   "metadata": {},
   "outputs": [],
   "source": [
    "sql= \"set foreign_key_checks=1\"\n",
    "\n",
    "\n",
    "mycursor.execute(sql)"
   ]
  },
  {
   "cell_type": "code",
   "execution_count": 27,
   "id": "a10fdd81",
   "metadata": {},
   "outputs": [],
   "source": [
    "mydb.commit()"
   ]
  },
  {
   "cell_type": "code",
   "execution_count": null,
   "id": "1b683cb8",
   "metadata": {},
   "outputs": [],
   "source": []
  }
 ],
 "metadata": {
  "kernelspec": {
   "display_name": "Python 3 (ipykernel)",
   "language": "python",
   "name": "python3"
  },
  "language_info": {
   "codemirror_mode": {
    "name": "ipython",
    "version": 3
   },
   "file_extension": ".py",
   "mimetype": "text/x-python",
   "name": "python",
   "nbconvert_exporter": "python",
   "pygments_lexer": "ipython3",
   "version": "3.9.13"
  }
 },
 "nbformat": 4,
 "nbformat_minor": 5
}
