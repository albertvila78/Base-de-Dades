{
 "cells": [
  {
   "cell_type": "code",
   "execution_count": 3,
   "id": "28bbc691",
   "metadata": {},
   "outputs": [
    {
     "name": "stdout",
     "output_type": "stream",
     "text": [
      "(['Gener', 'Febrer', 'Març'], ['Abril', 'Maig', 'Juny'], ['Juliol', 'Agost', 'Setembre'], ['Octubre', 'Novembre', 'Desembre'])\n"
     ]
    }
   ],
   "source": [
    "#Exercici1\n",
    "\n",
    "Trimestres = ['Gener', 'Febrer','Març'], ['Abril', 'Maig', 'Juny'], ['Juliol', 'Agost', 'Setembre'], ['Octubre', 'Novembre', 'Desembre']\n",
    "\n",
    "print(Trimestres)\n",
    "\n"
   ]
  },
  {
   "cell_type": "code",
   "execution_count": 4,
   "id": "808e09db",
   "metadata": {},
   "outputs": [
    {
     "name": "stdout",
     "output_type": "stream",
     "text": [
      "Febrer\n"
     ]
    }
   ],
   "source": [
    "#Exercici2\n",
    "print(Trimestres[0][1])"
   ]
  },
  {
   "cell_type": "code",
   "execution_count": 5,
   "id": "602ddd74",
   "metadata": {},
   "outputs": [
    {
     "name": "stdout",
     "output_type": "stream",
     "text": [
      "['Gener', 'Febrer', 'Març']\n"
     ]
    }
   ],
   "source": [
    "print(Trimestres[0])"
   ]
  },
  {
   "cell_type": "code",
   "execution_count": 6,
   "id": "9dd8b71c",
   "metadata": {},
   "outputs": [
    {
     "name": "stdout",
     "output_type": "stream",
     "text": [
      "Septembre Octubre\n"
     ]
    }
   ],
   "source": [
    "Sept= Trimestres[2][2]\n",
    "Oct= Trimestres[3][0]\n",
    "\n",
    "print (Sept,Oct)"
   ]
  },
  {
   "cell_type": "code",
   "execution_count": 1,
   "id": "feab5ca5",
   "metadata": {},
   "outputs": [
    {
     "name": "stdout",
     "output_type": "stream",
     "text": [
      "La llongitud de la llista es:  12\n"
     ]
    }
   ],
   "source": [
    "#Exercici3\n",
    "\n",
    "my_list = [3, 4, 7, 45, 24, 33, 25, 28, 5, 29, 61, 12]\n",
    "\n",
    "length = len(my_list)\n",
    "\n",
    "print(\"La llongitud de la llista es: \", length)"
   ]
  },
  {
   "cell_type": "code",
   "execution_count": 3,
   "id": "bfb763e4",
   "metadata": {},
   "outputs": [
    {
     "name": "stdout",
     "output_type": "stream",
     "text": [
      "El número 3 apareix 1 vegada\n"
     ]
    }
   ],
   "source": [
    "total = my_list.count(3)\n",
    "\n",
    "print(\"El número 3 apareix\", total, \"vegada\")"
   ]
  },
  {
   "cell_type": "code",
   "execution_count": 4,
   "id": "ef58c835",
   "metadata": {},
   "outputs": [
    {
     "name": "stdout",
     "output_type": "stream",
     "text": [
      "El número 3 apareix 1 vegada\n",
      "El número 4 apareix 1 vegada\n"
     ]
    }
   ],
   "source": [
    "total_3 = my_list.count(3)\n",
    "total_4 = my_list.count(4)\n",
    "\n",
    "print(\"El número 3 apareix\", total_3, \"vegada\")\n",
    "print(\"El número 4 apareix\", total_3, \"vegada\")"
   ]
  },
  {
   "cell_type": "code",
   "execution_count": 2,
   "id": "b39c79d0",
   "metadata": {},
   "outputs": [
    {
     "name": "stdout",
     "output_type": "stream",
     "text": [
      "El número mes gran es: [61]\n"
     ]
    }
   ],
   "source": [
    "my_list.sort(reverse = True)\n",
    "\n",
    "min = my_list[:1]\n",
    "\n",
    "print(\"El número mes gran es:\",min)"
   ]
  },
  {
   "cell_type": "code",
   "execution_count": 47,
   "id": "33c58a08",
   "metadata": {},
   "outputs": [
    {
     "name": "stdout",
     "output_type": "stream",
     "text": [
      "Els tres números més petits son: [3, 4, 5]\n"
     ]
    }
   ],
   "source": [
    "my_list.sort()\n",
    "\n",
    "min = my_list[:3]\n",
    "\n",
    "print(\"Els tres números més petits son:\", min)"
   ]
  },
  {
   "cell_type": "code",
   "execution_count": 49,
   "id": "067272d7",
   "metadata": {},
   "outputs": [
    {
     "name": "stdout",
     "output_type": "stream",
     "text": [
      "El rang de la llista es: 58\n"
     ]
    }
   ],
   "source": [
    "my_list.sort()\n",
    "\n",
    "rang = my_list[-1] - my_list[0]\n",
    "\n",
    "print(\"El rang de la llista es:\", rang)"
   ]
  },
  {
   "cell_type": "code",
   "execution_count": 5,
   "id": "695639a5",
   "metadata": {},
   "outputs": [],
   "source": [
    "#Exercici4\n",
    "\n",
    "compra = { \"Pomes\" : {\"Qty\": 5, \"€\": 0.42}, \"Peres\" : {\"Qty\": 3, \"€\": 0.66} }"
   ]
  },
  {
   "cell_type": "code",
   "execution_count": 9,
   "id": "c3ddf931",
   "metadata": {},
   "outputs": [],
   "source": [
    "#actualitzar diccionari\n",
    "\n",
    "compra.update({ \"taronja\" : {\"Qty\": 6, \"€\": 0.52}})\n",
    "                 "
   ]
  },
  {
   "cell_type": "code",
   "execution_count": 14,
   "id": "c0f25e43",
   "metadata": {},
   "outputs": [
    {
     "name": "stdout",
     "output_type": "stream",
     "text": [
      "El cost total de las Peres es: 1.98 €\n"
     ]
    }
   ],
   "source": [
    "#Cost total Peres\n",
    "\n",
    "cost = compra[\"Peres\"][\"Qty\"] * compra[\"Peres\"][\"€\"]\n",
    "\n",
    "print(\"El cost total de las Peres es:\", cost,\"€\")"
   ]
  },
  {
   "cell_type": "code",
   "execution_count": 22,
   "id": "4486c6e1",
   "metadata": {},
   "outputs": [
    {
     "name": "stdout",
     "output_type": "stream",
     "text": [
      "Hem comprat en total 14 fruites\n"
     ]
    }
   ],
   "source": [
    "#Quantitat total de fruites\n",
    "\n",
    "quant = compra[\"Peres\"][\"Qty\"] + compra[\"Pomes\"][\"Qty\"] + compra[\"taronja\"][\"Qty\"]\n",
    "\n",
    "print(\"Hem comprat en total\",quant,\"fruites\")"
   ]
  },
  {
   "cell_type": "code",
   "execution_count": 36,
   "id": "b3b1c52a",
   "metadata": {},
   "outputs": [
    {
     "name": "stdout",
     "output_type": "stream",
     "text": [
      "La fruita mes cara son les Peres\n"
     ]
    }
   ],
   "source": [
    "#Fruita mes cara\n",
    "\n",
    "valor = max(compra, key = lambda fruita: compra[fruita][\"€\"])\n",
    "\n",
    "print(\"La fruita mes cara son les\",valor)"
   ]
  },
  {
   "cell_type": "code",
   "execution_count": null,
   "id": "3735bd50",
   "metadata": {},
   "outputs": [],
   "source": []
  }
 ],
 "metadata": {
  "kernelspec": {
   "display_name": "Python 3 (ipykernel)",
   "language": "python",
   "name": "python3"
  },
  "language_info": {
   "codemirror_mode": {
    "name": "ipython",
    "version": 3
   },
   "file_extension": ".py",
   "mimetype": "text/x-python",
   "name": "python",
   "nbconvert_exporter": "python",
   "pygments_lexer": "ipython3",
   "version": "3.9.13"
  }
 },
 "nbformat": 4,
 "nbformat_minor": 5
}
