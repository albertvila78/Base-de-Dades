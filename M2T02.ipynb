{
 "cells": [
  {
   "cell_type": "code",
   "execution_count": 16,
   "id": "a302fa1a",
   "metadata": {},
   "outputs": [
    {
     "name": "stdout",
     "output_type": "stream",
     "text": [
      "Nota: 6\n",
      "Aprovat\n"
     ]
    }
   ],
   "source": [
    "#Exercici1\n",
    "\n",
    "notes = int(input('Nota: '))\n",
    "\n",
    "if notes < 5:\n",
    "    \n",
    "    print(\"Suspès\")\n",
    "    \n",
    "elif notes >= 5 and notes < 7:\n",
    "    \n",
    "    print(\"Aprovat\")\n",
    "    \n",
    "elif notes >= 7 and notes < 9:\n",
    "    \n",
    "    print(\"Notable\")\n",
    "    \n",
    "else:\n",
    "    print(\"Excel·lent\")"
   ]
  },
  {
   "cell_type": "code",
   "execution_count": 17,
   "id": "b3887b5e",
   "metadata": {},
   "outputs": [
    {
     "name": "stdout",
     "output_type": "stream",
     "text": [
      "Nota: 10\n",
      "Excel·lent\n"
     ]
    }
   ],
   "source": [
    "notes = int(input('Nota: '))\n",
    "\n",
    "if notes < 5:\n",
    "    \n",
    "    print(\"Suspès\")\n",
    "    \n",
    "elif notes >= 5 and notes < 7:\n",
    "    \n",
    "    print(\"Aprovat\")\n",
    "    \n",
    "elif notes >= 7 and notes < 9:\n",
    "    \n",
    "    print(\"Notable\")\n",
    "    \n",
    "else:\n",
    "    print(\"Excel·lent\")"
   ]
  },
  {
   "cell_type": "code",
   "execution_count": 12,
   "id": "da8943ef",
   "metadata": {},
   "outputs": [
    {
     "name": "stdout",
     "output_type": "stream",
     "text": [
      "Nota: 2\n",
      "Suspès\n"
     ]
    }
   ],
   "source": [
    "notes = int(input('Nota: '))\n",
    "\n",
    "if notes < 5:\n",
    "    \n",
    "    print(\"Suspès\")\n",
    "    \n",
    "elif notes >= 5 and notes < 7:\n",
    "    \n",
    "    print(\"Aprovat\")\n",
    "    \n",
    "elif notes >= 7 and notes < 9:\n",
    "    \n",
    "    print(\"Notable\")\n",
    "    \n",
    "else:\n",
    "    print(\"Excel·lent\")"
   ]
  },
  {
   "cell_type": "code",
   "execution_count": 13,
   "id": "9b4efeee",
   "metadata": {},
   "outputs": [
    {
     "name": "stdout",
     "output_type": "stream",
     "text": [
      "Nota: 7\n",
      "Notable\n"
     ]
    }
   ],
   "source": [
    "notes = int(input('Nota: '))\n",
    "\n",
    "if notes < 5:\n",
    "    \n",
    "    print(\"Suspès\")\n",
    "    \n",
    "elif notes >= 5 and notes < 7:\n",
    "    \n",
    "    print(\"Aprovat\")\n",
    "    \n",
    "elif notes >= 7 and notes < 9:\n",
    "    \n",
    "    print(\"Notable\")\n",
    "    \n",
    "else:\n",
    "    print(\"Excel·lent\")"
   ]
  },
  {
   "cell_type": "code",
   "execution_count": 14,
   "id": "59b3943f",
   "metadata": {},
   "outputs": [
    {
     "name": "stdout",
     "output_type": "stream",
     "text": [
      "Diguem un número: 5\n",
      "Diguem un altre número: 7\n",
      "El segón número es mes gran.\n"
     ]
    }
   ],
   "source": [
    "#Exercici2\n",
    "\n",
    "num1 = input('Diguem un número: ')\n",
    "\n",
    "num2 = input('Diguem un altre número: ')\n",
    "\n",
    "if num1 > num2:\n",
    "    \n",
    "    print(\"El primer número es mes gran\")\n",
    "    \n",
    "elif num1 < num2:\n",
    "    \n",
    "    print(\"El segón número es mes gran.\")\n",
    "    \n",
    "else:\n",
    "    \n",
    "    print(\"Els dos número son iguals\")"
   ]
  },
  {
   "cell_type": "code",
   "execution_count": 5,
   "id": "c959263e",
   "metadata": {},
   "outputs": [
    {
     "name": "stdout",
     "output_type": "stream",
     "text": [
      "Diguem un número: 20\n",
      "Diguem un altre número: 12\n",
      "El primer número es mes gran\n"
     ]
    }
   ],
   "source": [
    "\n",
    "num1 = input('Diguem un número: ')\n",
    "\n",
    "num2 = input('Diguem un altre número: ')\n",
    "\n",
    "if num1 > num2:\n",
    "    \n",
    "    print(\"El primer número es mes gran\")\n",
    "    \n",
    "elif num1 < num2:\n",
    "    \n",
    "    print(\"El segón número es mes gran.\")\n",
    "    \n",
    "else:\n",
    "    \n",
    "    print(\"Els dos número son iguals\")"
   ]
  },
  {
   "cell_type": "code",
   "execution_count": 6,
   "id": "17bce1bc",
   "metadata": {},
   "outputs": [
    {
     "name": "stdout",
     "output_type": "stream",
     "text": [
      "Diguem un número: 13\n",
      "Diguem un altre número: 13\n",
      "Els dos número son iguals\n"
     ]
    }
   ],
   "source": [
    "\n",
    "num1 = input('Diguem un número: ')\n",
    "\n",
    "num2 = input('Diguem un altre número: ')\n",
    "\n",
    "if num1 > num2:\n",
    "    \n",
    "    print(\"El primer número es mes gran\")\n",
    "    \n",
    "elif num1 < num2:\n",
    "    \n",
    "    print(\"El segón número es mes gran.\")\n",
    "    \n",
    "else:\n",
    "    \n",
    "    print(\"Els dos número son iguals\")"
   ]
  },
  {
   "cell_type": "code",
   "execution_count": 30,
   "id": "fa6a9c13",
   "metadata": {},
   "outputs": [
    {
     "name": "stdout",
     "output_type": "stream",
     "text": [
      "Em podires dir el teu nom:Albert\n",
      "Em podries un número:3\n",
      "AlbertAlbertAlbert\n"
     ]
    }
   ],
   "source": [
    "#Exercici3\n",
    "\n",
    "nom = input(\"Em podires dir el teu nom:\")\n",
    "numero = int(input(\"Em podries un número:\"))\n",
    "\n",
    "if numero <= 0:\n",
    "    \n",
    "    print(\"Error\")\n",
    "    \n",
    "else:\n",
    "    \n",
    "    \n",
    "    print(nom * numero)"
   ]
  },
  {
   "cell_type": "code",
   "execution_count": 27,
   "id": "6d7ce0be",
   "metadata": {},
   "outputs": [
    {
     "name": "stdout",
     "output_type": "stream",
     "text": [
      "Em podires dir el teu nom:Albert\n",
      "Em podries un número:5\n",
      "Albert\n",
      "Albert\n",
      "Albert\n",
      "Albert\n",
      "Albert\n"
     ]
    }
   ],
   "source": [
    "nom = input(\"Em podires dir el teu nom:\")\n",
    "numero = int(input(\"Em podries un número:\"))\n",
    "\n",
    "if numero <= 0:\n",
    "    \n",
    "    print(\"Error\")\n",
    "    \n",
    "else:\n",
    "    \n",
    "    for _ in range(numero):\n",
    "        \n",
    "        print(nom)"
   ]
  },
  {
   "cell_type": "code",
   "execution_count": 54,
   "id": "aed89abf",
   "metadata": {},
   "outputs": [
    {
     "name": "stdout",
     "output_type": "stream",
     "text": [
      "La llista es simetrica\n",
      "La llista te 7 elements\n"
     ]
    }
   ],
   "source": [
    "#Exercici4\n",
    "\n",
    "def simetria(mylist):\n",
    "    if mylist == mylist[::-1]:\n",
    "        return True\n",
    "    else:\n",
    "        return False\n",
    "\n",
    "def total(mylist):\n",
    "    return len(mylist)\n",
    "\n",
    "mylist = [9,8,7,6,7,8,9]\n",
    "\n",
    "if simetria(mylist):\n",
    "    \n",
    "    print(\"La llista es simetrica\")\n",
    "    \n",
    "    print(\"La llista te\", total(mylist), \"elements\")\n"
   ]
  },
  {
   "cell_type": "code",
   "execution_count": null,
   "id": "38ccdb9b",
   "metadata": {},
   "outputs": [],
   "source": [
    "#Exercici5"
   ]
  }
 ],
 "metadata": {
  "kernelspec": {
   "display_name": "Python 3 (ipykernel)",
   "language": "python",
   "name": "python3"
  },
  "language_info": {
   "codemirror_mode": {
    "name": "ipython",
    "version": 3
   },
   "file_extension": ".py",
   "mimetype": "text/x-python",
   "name": "python",
   "nbconvert_exporter": "python",
   "pygments_lexer": "ipython3",
   "version": "3.9.13"
  }
 },
 "nbformat": 4,
 "nbformat_minor": 5
}
